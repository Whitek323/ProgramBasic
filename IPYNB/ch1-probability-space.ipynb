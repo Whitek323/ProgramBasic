{
 "cells": [
  {
   "cell_type": "markdown",
   "id": "50d694cd",
   "metadata": {},
   "source": [
    "### Probability Space $ (\\Omega,\\mathcal{A}, \\mathbb{P}) $\n"
   ]
  },
  {
   "cell_type": "markdown",
   "id": "f8011494",
   "metadata": {},
   "source": [
    "##### topic\n",
    "1.Random Experiment\n",
    "\n",
    "2.The probability"
   ]
  },
  {
   "cell_type": "markdown",
   "id": "f4c36b9a",
   "metadata": {
    "jp-MarkdownHeadingCollapsed": true
   },
   "source": [
    "### Sample Space\n",
    "consider the random experiment of the tossing a coin $$ \\scriptstyle \\Omega_1 = \\{H, T\\} $$\n",
    "What if we toss two, so sample space $$  \\scriptstyle\\Omega_2 = \\{HH, HT, TT, TH\\} $$"
   ]
  },
  {
   "cell_type": "code",
   "execution_count": 1,
   "id": "3c7432ba",
   "metadata": {},
   "outputs": [],
   "source": [
    "from itertools import chain, combinations\n",
    "\n",
    "omega_1 = ['H','T']\n",
    "omega_2 = ['HH','HT','TT','TH']"
   ]
  },
  {
   "cell_type": "markdown",
   "id": "7107358d",
   "metadata": {},
   "source": [
    "### Events\n",
    "A group of some outcomes from sample space $\\scriptstyle\\Omega$ $$\\scriptstyle E_1 = \\{H\\} $$  $$\\scriptstyle E_2 = \\{HH,HT\\} $$\n",
    "From $\\scriptstyle\\Omega_1$ we can construct collection of all events\n",
    "\n",
    "Condition $A$\n",
    "1. $\\scriptstyle\\Omega \\in A$ and $\\scriptstyle\\emptyset \\in A$\n",
    "2. $\\scriptstyle A \\in A \\scriptstyle\\Rightarrow A^c \\in A$\n",
    "3. If $\\scriptstyle\\{A_1, A_2, \\ldots\\}$ is a countable sequence of events in $\\scriptstyle A$, then $\\scriptstyle\\bigcup_{i=1}^{\\infty}A_i \\in A$"
   ]
  },
  {
   "cell_type": "code",
   "execution_count": 2,
   "id": "53557ba9",
   "metadata": {},
   "outputs": [],
   "source": [
    "A_1 = list(chain.from_iterable(combinations(omega_1,r) for r in range(len(omega_1)+1)))\n",
    "A_1 = [set(a) for a in A_1]"
   ]
  },
  {
   "cell_type": "code",
   "execution_count": 3,
   "id": "d8cea4ff",
   "metadata": {},
   "outputs": [],
   "source": [
    "A_2 = list(chain.from_iterable(combinations(omega_2,r) for r in range(len(omega_1)+1)))\n",
    "A_2 = [set(a) for a in A_2]"
   ]
  },
  {
   "cell_type": "code",
   "execution_count": 4,
   "id": "ecda7005",
   "metadata": {},
   "outputs": [],
   "source": [
    "A_c = set(omega_2) - A_2[5]"
   ]
  },
  {
   "cell_type": "code",
   "execution_count": 5,
   "id": "03ee2398",
   "metadata": {},
   "outputs": [
    {
     "data": {
      "text/plain": [
       "True"
      ]
     },
     "execution_count": 5,
     "metadata": {},
     "output_type": "execute_result"
    }
   ],
   "source": [
    "A_c in A_2"
   ]
  },
  {
   "cell_type": "code",
   "execution_count": 6,
   "id": "09709452",
   "metadata": {},
   "outputs": [
    {
     "data": {
      "text/plain": [
       "True"
      ]
     },
     "execution_count": 6,
     "metadata": {},
     "output_type": "execute_result"
    }
   ],
   "source": [
    "A_2[5].union(A_2[2]) in A_2"
   ]
  },
  {
   "cell_type": "markdown",
   "id": "f2b629c1",
   "metadata": {},
   "source": [
    "### Probability\n",
    "\n",
    "$\\mathbb{P}$ is the probability assigned to each event. The probability assigned to an event expresses the degree of change at which that event would occur. $$\\mathbb{P}:\\mathcal{A}\\to\\mathbb{R}$$\n",
    "\n",
    "such that:\n",
    "1. $\\scriptstyle\\mathbb{P}(\\Omega) = 1$ and $\\scriptstyle\\mathbb{P}(\\emptyset) = 0$\n",
    "2. $\\scriptstyle0 \\le \\mathbb{P(E)} \\le 1$\n",
    "3. For two mutually exclusive events $\\scriptstyle E_1$ and $\\scriptstyle E_2$ ($\\scriptstyle E_1 \\cap E_2 = \\emptyset$) in $\\scriptstyle A$,\n",
    "\n",
    "\n",
    "\n",
    "$$\\mathbb{P}(E_1 \\cup E_2) = \\mathbb{P}(E_1) + \\mathbb{P}(E_2)$$\n",
    "\n",
    "Common probability\n",
    "$$\\mathbb{P}(E) = \\frac{|E|}{|\\Omega|}$$"
   ]
  },
  {
   "cell_type": "code",
   "execution_count": 7,
   "id": "d747db79",
   "metadata": {},
   "outputs": [
    {
     "data": {
      "text/plain": [
       "({'H'}, {'HT'})"
      ]
     },
     "execution_count": 7,
     "metadata": {},
     "output_type": "execute_result"
    }
   ],
   "source": [
    "E1 = A_1[1]\n",
    "E2 = A_2[2]\n",
    "\n",
    "E1,E2"
   ]
  },
  {
   "cell_type": "code",
   "execution_count": 8,
   "id": "02135ccd",
   "metadata": {},
   "outputs": [],
   "source": [
    "def P(E,Omega):\n",
    "    return len(E) / len(Omega)"
   ]
  },
  {
   "cell_type": "code",
   "execution_count": 9,
   "id": "dae2fe49",
   "metadata": {},
   "outputs": [
    {
     "data": {
      "text/plain": [
       "0.5"
      ]
     },
     "execution_count": 9,
     "metadata": {},
     "output_type": "execute_result"
    }
   ],
   "source": [
    "P(E1,omega_1)\n",
    "P(E2,omega_1)"
   ]
  }
 ],
 "metadata": {
  "kernelspec": {
   "display_name": "t10",
   "language": "python",
   "name": "python3"
  },
  "language_info": {
   "codemirror_mode": {
    "name": "ipython",
    "version": 3
   },
   "file_extension": ".py",
   "mimetype": "text/x-python",
   "name": "python",
   "nbconvert_exporter": "python",
   "pygments_lexer": "ipython3",
   "version": "3.10.18"
  }
 },
 "nbformat": 4,
 "nbformat_minor": 5
}

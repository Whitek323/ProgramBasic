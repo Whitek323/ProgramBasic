{
 "cells": [
  {
   "cell_type": "markdown",
   "id": "50d694cd",
   "metadata": {},
   "source": [
    "### Probability Space $ (\\Omega,\\mathcal{A}, \\mathbb{P}) $\n"
   ]
  },
  {
   "cell_type": "markdown",
   "id": "f8011494",
   "metadata": {},
   "source": [
    "##### topic\n",
    "1.Random Experiment\n",
    "\n",
    "2.The probability"
   ]
  },
  {
   "cell_type": "markdown",
   "id": "f4c36b9a",
   "metadata": {},
   "source": [
    "### Sample Space\n",
    "consider the random experiment of the tossing a coin $$ \\scriptstyle \\Omega_1 = \\{H, T\\} $$\n",
    "What if we toss two, so sample space $$ \\scriptstyle \\Omega_2 = \\{HH, HT, TT, TH\\} $$"
   ]
  },
  {
   "cell_type": "code",
   "execution_count": null,
   "id": "3c7432ba",
   "metadata": {},
   "outputs": [],
   "source": [
    "from itertools import chain, combinations\n",
    "\n",
    "omega_1 = ['H','T']\n",
    "omega_2 = ['HH','HT','TT','TH']"
   ]
  },
  {
   "cell_type": "markdown",
   "id": "7107358d",
   "metadata": {},
   "source": [
    "### Events\n",
    "A group of some outcomes from sample space $\\small\\Omega$ $$\\scriptstyle E_1 = \\{H\\} $$  $$\\scriptstyle E_2 = \\{HH,HT\\} $$\n",
    "From $\\Omega_1$ we can construct collection of all events"
   ]
  },
  {
   "cell_type": "code",
   "execution_count": null,
   "id": "d8cea4ff",
   "metadata": {},
   "outputs": [],
   "source": []
  }
 ],
 "metadata": {
  "kernelspec": {
   "display_name": "t10",
   "language": "python",
   "name": "python3"
  },
  "language_info": {
   "codemirror_mode": {
    "name": "ipython",
    "version": 3
   },
   "file_extension": ".py",
   "mimetype": "text/x-python",
   "name": "python",
   "nbconvert_exporter": "python",
   "pygments_lexer": "ipython3",
   "version": "3.10.18"
  }
 },
 "nbformat": 4,
 "nbformat_minor": 5
}
